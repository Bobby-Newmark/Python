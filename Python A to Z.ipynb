{
 "cells": [
  {
   "cell_type": "markdown",
   "metadata": {},
   "source": [
    "# Python A to Z\n",
    "https://medium.freecodecamp.org/an-a-z-of-useful-python-tricks-b467524ee747?mkt_tok=eyJpIjoiTVRKbE5qVmxaVGRtWVRGaCIsInQiOiJYdUNmYlRMbmhpRStCaUl1ZWtmRTY3VkVDVWV1ekJ0ZDVhTG9ob0dOVEpCREt0dm9BelptaHdxUHM2ZlRKNG5RNzlGSzhjckNTRUtwRUpMTlBaMjZiNUxpeXR1UVNsRFpkRHRJcTBFdTA3UGhuNHZxbzVqZkVXSTlrcm9UUVJwbCJ9"
   ]
  },
  {
   "cell_type": "markdown",
   "metadata": {},
   "source": [
    "## All or Any"
   ]
  },
  {
   "cell_type": "code",
   "execution_count": 7,
   "metadata": {},
   "outputs": [
    {
     "name": "stdout",
     "output_type": "stream",
     "text": [
      "At least one True\n",
      "At least one True and one False\n"
     ]
    }
   ],
   "source": [
    "x = [True, True, False]\n",
    "if any(x):\n",
    "    print(\"At least one True\")\n",
    "if all(x):\n",
    "    print(\"Not one False\")\n",
    "if any(x) and not all(x):\n",
    "    print(\"At least one True and one False\")"
   ]
  },
  {
   "cell_type": "markdown",
   "metadata": {},
   "source": [
    "## Print Graphs at the commandline"
   ]
  },
  {
   "cell_type": "code",
   "execution_count": 9,
   "metadata": {},
   "outputs": [
    {
     "ename": "NameError",
     "evalue": "name 'bashplotlib' is not defined",
     "output_type": "error",
     "traceback": [
      "\u001b[0;31m\u001b[0m",
      "\u001b[0;31mNameError\u001b[0mTraceback (most recent call last)",
      "\u001b[0;32m<ipython-input-9-928e9e5f818d>\u001b[0m in \u001b[0;36m<module>\u001b[0;34m()\u001b[0m\n\u001b[0;32m----> 1\u001b[0;31m \u001b[0mbashplotlib\u001b[0m\u001b[0;34m\u001b[0m\u001b[0m\n\u001b[0m",
      "\u001b[0;31mNameError\u001b[0m: name 'bashplotlib' is not defined"
     ]
    }
   ],
   "source": [
    "pip install bashplotlib"
   ]
  },
  {
   "cell_type": "markdown",
   "metadata": {},
   "source": [
    "## Collections\n",
    "Python has some great default datatypes, but sometimes they just won’t behave exactly how \n",
    "you’d like them to. Luckily, the Python Standard Library offers the collections module. \n",
    "This handy add-on provides you with further datatypes."
   ]
  },
  {
   "cell_type": "code",
   "execution_count": 12,
   "metadata": {},
   "outputs": [],
   "source": [
    "from collections import OrderedDict, Counter\n",
    "# Remembers the order the keys are added!\n",
    "x = OrderedDict(a=1, b=2, c=3)\n",
    "# Counts the frequency of each character\n",
    "y = Counter(\"Hello World!\")"
   ]
  },
  {
   "cell_type": "markdown",
   "metadata": {},
   "source": [
    "## dir\n",
    "Ever wondered how you can look inside a Python object and see what attributes it has? \n",
    "Of course you have. From the command line:"
   ]
  },
  {
   "cell_type": "code",
   "execution_count": 14,
   "metadata": {},
   "outputs": [
    {
     "data": {
      "text/plain": [
       "['__call__',\n",
       " '__class__',\n",
       " '__delattr__',\n",
       " '__dir__',\n",
       " '__doc__',\n",
       " '__eq__',\n",
       " '__format__',\n",
       " '__ge__',\n",
       " '__getattribute__',\n",
       " '__gt__',\n",
       " '__hash__',\n",
       " '__init__',\n",
       " '__init_subclass__',\n",
       " '__le__',\n",
       " '__lt__',\n",
       " '__module__',\n",
       " '__name__',\n",
       " '__ne__',\n",
       " '__new__',\n",
       " '__qualname__',\n",
       " '__reduce__',\n",
       " '__reduce_ex__',\n",
       " '__repr__',\n",
       " '__self__',\n",
       " '__setattr__',\n",
       " '__sizeof__',\n",
       " '__str__',\n",
       " '__subclasshook__',\n",
       " '__text_signature__']"
      ]
     },
     "execution_count": 14,
     "metadata": {},
     "output_type": "execute_result"
    }
   ],
   "source": [
    "dir()\n",
    "dir(\"Hello World\")\n",
    "dir(dir)"
   ]
  },
  {
   "cell_type": "markdown",
   "metadata": {},
   "source": [
    "## emoji"
   ]
  },
  {
   "cell_type": "code",
   "execution_count": 18,
   "metadata": {
    "scrolled": true
   },
   "outputs": [
    {
     "name": "stderr",
     "output_type": "stream",
     "text": [
      "UsageError: Cell magic `%%pip` not found (But line magic `%pip` exists, did you mean that instead?).\n"
     ]
    }
   ],
   "source": [
    "pip install emoji\n",
    "\n",
    "from emoji import emojize\n",
    "print(emojize(\":thumbs_up:\"))"
   ]
  },
  {
   "cell_type": "markdown",
   "metadata": {},
   "source": [
    "## from __future__ import\n",
    "One consequence of Python’s popularity is that there are always new versions under development. New versions mean new features — unless your version is out-of-date.\n",
    "\n",
    "Fear not, however. The __future__ module lets you import functionality from future versions of Python. It’s literally like time travel, or magic, or something."
   ]
  },
  {
   "cell_type": "code",
   "execution_count": 2,
   "metadata": {},
   "outputs": [
    {
     "name": "stdout",
     "output_type": "stream",
     "text": [
      "Hello World!\n"
     ]
    }
   ],
   "source": [
    "from __future__ import print_function\n",
    "print(\"Hello World!\")"
   ]
  },
  {
   "cell_type": "markdown",
   "metadata": {},
   "source": [
    "## geopy\n",
    "Geography can be a challenging terrain for programmers to navigate (ha, a pun!). But the geopy module makes it unnervingly easy.\n",
    "t works by abstracting the APIs of a range of different geocoding services. It enables you to obtain a place’s full street address, latitude, longitude, and even altitude.\n",
    "\n",
    "There’s also a useful distance class. It calculates the distance between two locations in your favorite unit of measurement."
   ]
  },
  {
   "cell_type": "code",
   "execution_count": 3,
   "metadata": {},
   "outputs": [
    {
     "ename": "ModuleNotFoundError",
     "evalue": "No module named 'geopy'",
     "output_type": "error",
     "traceback": [
      "\u001b[0;31m\u001b[0m",
      "\u001b[0;31mModuleNotFoundError\u001b[0mTraceback (most recent call last)",
      "\u001b[0;32m<ipython-input-3-c600626a4db1>\u001b[0m in \u001b[0;36m<module>\u001b[0;34m()\u001b[0m\n\u001b[0;32m----> 1\u001b[0;31m \u001b[0;32mfrom\u001b[0m \u001b[0mgeopy\u001b[0m \u001b[0;32mimport\u001b[0m \u001b[0mGoogleV3\u001b[0m\u001b[0;34m\u001b[0m\u001b[0m\n\u001b[0m\u001b[1;32m      2\u001b[0m \u001b[0mplace\u001b[0m \u001b[0;34m=\u001b[0m \u001b[0;34m\"221b Baker Street, London\"\u001b[0m\u001b[0;34m\u001b[0m\u001b[0m\n\u001b[1;32m      3\u001b[0m \u001b[0mlocation\u001b[0m \u001b[0;34m=\u001b[0m \u001b[0mGoogleV3\u001b[0m\u001b[0;34m(\u001b[0m\u001b[0;34m)\u001b[0m\u001b[0;34m.\u001b[0m\u001b[0mgeocode\u001b[0m\u001b[0;34m(\u001b[0m\u001b[0mplace\u001b[0m\u001b[0;34m)\u001b[0m\u001b[0;34m\u001b[0m\u001b[0m\n\u001b[1;32m      4\u001b[0m \u001b[0mprint\u001b[0m\u001b[0;34m(\u001b[0m\u001b[0mlocation\u001b[0m\u001b[0;34m.\u001b[0m\u001b[0maddress\u001b[0m\u001b[0;34m)\u001b[0m\u001b[0;34m\u001b[0m\u001b[0m\n\u001b[1;32m      5\u001b[0m \u001b[0mprint\u001b[0m\u001b[0;34m(\u001b[0m\u001b[0mlocation\u001b[0m\u001b[0;34m.\u001b[0m\u001b[0mlocation\u001b[0m\u001b[0;34m)\u001b[0m\u001b[0;34m\u001b[0m\u001b[0m\n",
      "\u001b[0;31mModuleNotFoundError\u001b[0m: No module named 'geopy'"
     ]
    }
   ],
   "source": [
    "from geopy import GoogleV3\n",
    "place = \"221b Baker Street, London\"\n",
    "location = GoogleV3().geocode(place)\n",
    "print(location.address)\n",
    "print(location.location)"
   ]
  },
  {
   "cell_type": "markdown",
   "metadata": {},
   "source": [
    "## howdoi\n",
    "Stuck on a coding problem and can’t remember that solution you saw before? Need to check StackOverflow, but don’t want to leave the terminal?\n",
    "\n",
    "Then you need this useful command line tool.\n",
    "\n",
    "Ask it whatever question you have, and it’ll do its best to return an answer."
   ]
  },
  {
   "cell_type": "code",
   "execution_count": 4,
   "metadata": {},
   "outputs": [
    {
     "ename": "SyntaxError",
     "evalue": "invalid syntax (<ipython-input-4-0f11aac32a52>, line 1)",
     "output_type": "error",
     "traceback": [
      "\u001b[0;36m  File \u001b[0;32m\"<ipython-input-4-0f11aac32a52>\"\u001b[0;36m, line \u001b[0;32m1\u001b[0m\n\u001b[0;31m    howdoi vertical align css\u001b[0m\n\u001b[0m                  ^\u001b[0m\n\u001b[0;31mSyntaxError\u001b[0m\u001b[0;31m:\u001b[0m invalid syntax\n"
     ]
    }
   ],
   "source": [
    "howdoi vertical align css\n",
    "howdoi for loop in java\n",
    "howdoi undo commits in git"
   ]
  },
  {
   "cell_type": "markdown",
   "metadata": {},
   "source": [
    "## inspect\n",
    "Python’s inspect module is great for understanding what is happening behind the scenes. You can even call its methods on itself!\n",
    "\n",
    "The code sample below uses inspect.getsource() to print its own source code. It also uses inspect.getmodule() to print the module in which it was defined.\n",
    "\n",
    "The last line of code prints out its own line number."
   ]
  },
  {
   "cell_type": "code",
   "execution_count": 5,
   "metadata": {},
   "outputs": [
    {
     "name": "stdout",
     "output_type": "stream",
     "text": [
      "def getsource(object):\n",
      "    \"\"\"Return the text of the source code for an object.\n",
      "\n",
      "    The argument may be a module, class, method, function, traceback, frame,\n",
      "    or code object.  The source code is returned as a single string.  An\n",
      "    OSError is raised if the source code cannot be retrieved.\"\"\"\n",
      "    lines, lnum = getsourcelines(object)\n",
      "    return ''.join(lines)\n",
      "\n",
      "<module 'inspect' from '/opt/conda/lib/python3.6/inspect.py'>\n",
      "4\n"
     ]
    }
   ],
   "source": [
    "import inspect\n",
    "print(inspect.getsource(inspect.getsource))\n",
    "print(inspect.getmodule(inspect.getmodule))\n",
    "print(inspect.currentframe().f_lineno)"
   ]
  },
  {
   "cell_type": "markdown",
   "metadata": {},
   "source": [
    "## Jedi\n",
    "The Jedi library is an autocompletion and code analysis library. It makes writing code quicker and more productive.\n",
    "\n",
    "Unless you’re developing your own IDE, you’ll probably be most interested in using Jedi as an editor plugin. Luckily, there are already loads available!\n",
    "\n",
    "You may already be using Jedi, however. The IPython project makes use of Jedi for its code autocompletion functionality."
   ]
  },
  {
   "cell_type": "markdown",
   "metadata": {},
   "source": [
    "## **kwargs\n",
    "\n",
    "When learning any language, there are many milestones along the way. With Python, understanding the mysterious **kwargs syntax probably counts as one.\n",
    "\n",
    "The double-asterisk in front of a dictionary object lets you pass the contents of that dictionary as named arguments to a function.\n",
    "\n",
    "The dictionary’s keys are the argument names, and the values are the values passed to the function. You don’t even need to call it kwargs!"
   ]
  },
  {
   "cell_type": "code",
   "execution_count": 6,
   "metadata": {},
   "outputs": [
    {
     "name": "stdout",
     "output_type": "stream",
     "text": [
      "3\n",
      "3\n"
     ]
    }
   ],
   "source": [
    "dictionary = {\"a\": 1, \"b\": 2}\n",
    "def someFunction(a, b):\n",
    "    print(a + b)\n",
    "    return\n",
    "# these do the same thing:\n",
    "someFunction(**dictionary)\n",
    "someFunction(a=1, b=2)"
   ]
  },
  {
   "cell_type": "markdown",
   "metadata": {},
   "source": [
    "## List comprehensions\n",
    "One of my favourite things about programming in Python are its list comprehensions.\n",
    "\n",
    "These expressions make it easy to write very clean code that reads almost like natural language.\n",
    "\n",
    "You can read more about how to use them here."
   ]
  },
  {
   "cell_type": "code",
   "execution_count": 8,
   "metadata": {},
   "outputs": [
    {
     "name": "stdout",
     "output_type": "stream",
     "text": [
      "Welcome to London\n",
      "Welcome to Dublin\n",
      "Welcome to Oslo\n"
     ]
    }
   ],
   "source": [
    "numbers = [1,2,3,4,5,6,7]\n",
    "evens = [x for x in numbers if x % 2 is 0]\n",
    "odds = [y for y in numbers if y not in evens]\n",
    "cities = ['London', 'Dublin', 'Oslo']\n",
    "def visit(city):\n",
    "    print(\"Welcome to \"+city)\n",
    "for city in cities:\n",
    "    visit(city)"
   ]
  },
  {
   "cell_type": "markdown",
   "metadata": {},
   "source": [
    "## map\n",
    "Python supports functional programming through a number of inbuilt features. One of the most useful is the map() function — especially in combination with lambda functions.\n",
    "In the example above, map() applies a simple lambda function to each element in x. It returns a map object, which can be converted to some iterable object such as a list or tuple."
   ]
  },
  {
   "cell_type": "code",
   "execution_count": 10,
   "metadata": {},
   "outputs": [
    {
     "name": "stdout",
     "output_type": "stream",
     "text": [
      "[2, 3, 4]\n"
     ]
    }
   ],
   "source": [
    "x = [1, 2, 3]\n",
    "y = map(lambda x : x + 1 , x)\n",
    "# prints out [2,3,4]\n",
    "print(list(y))"
   ]
  },
  {
   "cell_type": "markdown",
   "metadata": {},
   "source": [
    "## newspaper3k\n",
    "If you haven’t seen it already, then be prepared to have your mind blown by Python’s newspaper module.\n",
    "\n",
    "It lets you retrieve news articles and associated meta-data from a range of leading international publications. You can retrieve images, text and author names.\n",
    "\n",
    "It even has some inbuilt NLP functionality.\n",
    "\n",
    "So if you were thinking of using BeautifulSoup or some other DIY webscraping library for your next project, save yourself the time and effort and $ pip install newspaper3k instead."
   ]
  },
  {
   "cell_type": "markdown",
   "metadata": {},
   "source": [
    "## Operator overloading\n",
    "Python provides support for operator overloading, which is one of those terms that make you sound like a legit computer scientist.\n",
    "\n",
    "It’s actually a simple concept. Ever wondered why Python lets you use the + operator to add numbers and also to concatenate strings? That’s operator overloading in action.\n",
    "\n",
    "You can define objects which use Python’s standard operator symbols in their own specific way. This lets you use them in contexts relevant to the objects you’re working with."
   ]
  },
  {
   "cell_type": "code",
   "execution_count": 11,
   "metadata": {},
   "outputs": [
    {
     "ename": "TypeError",
     "evalue": "unsupported operand type(s) for +: 'Thing' and 'Thing'",
     "output_type": "error",
     "traceback": [
      "\u001b[0;31m\u001b[0m",
      "\u001b[0;31mTypeError\u001b[0mTraceback (most recent call last)",
      "\u001b[0;32m<ipython-input-11-34249d2cf165>\u001b[0m in \u001b[0;36m<module>\u001b[0;34m()\u001b[0m\n\u001b[1;32m     13\u001b[0m \u001b[0msomething\u001b[0m \u001b[0;34m<\u001b[0m \u001b[0mnothing\u001b[0m\u001b[0;34m\u001b[0m\u001b[0m\n\u001b[1;32m     14\u001b[0m \u001b[0;31m# Error\u001b[0m\u001b[0;34m\u001b[0m\u001b[0;34m\u001b[0m\u001b[0m\n\u001b[0;32m---> 15\u001b[0;31m \u001b[0msomething\u001b[0m \u001b[0;34m+\u001b[0m \u001b[0mnothing\u001b[0m\u001b[0;34m\u001b[0m\u001b[0m\n\u001b[0m",
      "\u001b[0;31mTypeError\u001b[0m: unsupported operand type(s) for +: 'Thing' and 'Thing'"
     ]
    }
   ],
   "source": [
    "class Thing:\n",
    "    def __init__(self, value):\n",
    "        self.__value = value\n",
    "    def __gt__(self, other):\n",
    "        return self.__value > other.__value\n",
    "    def __lt__(self, other):\n",
    "        return self.__value < other.__value\n",
    "something = Thing(100)\n",
    "nothing = Thing(0)\n",
    "# True\n",
    "something > nothing\n",
    "# False\n",
    "something < nothing\n",
    "# Error\n",
    "something + nothing"
   ]
  },
  {
   "cell_type": "markdown",
   "metadata": {},
   "source": [
    "## pprint\n",
    "Python’s default print function does its job. But try printing out any large, nested object, and the result is rather ugly.\n",
    "\n",
    "Here’s where the Standard Library’s pretty-print module steps in. This prints out complex structured objects in an easy-to-read format.\n",
    "\n",
    "A must-have for any Python developer who works with non-trivial data structures."
   ]
  },
  {
   "cell_type": "code",
   "execution_count": 12,
   "metadata": {},
   "outputs": [
    {
     "name": "stdout",
     "output_type": "stream",
     "text": [
      "{'info': {'page': 1,\n",
      "          'results': 1,\n",
      "          'seed': 'a90dd9b4f5bfe94d',\n",
      "          'version': '1.2'},\n",
      " 'results': [{'cell': '(796)-341-9819',\n",
      "              'dob': {'age': 42, 'date': '1976-06-03T22:42:54Z'},\n",
      "              'email': 'olivia.wang@example.com',\n",
      "              'gender': 'female',\n",
      "              'id': {'name': '', 'value': None},\n",
      "              'location': {'city': 'blenheim',\n",
      "                           'coordinates': {'latitude': '68.2764',\n",
      "                                           'longitude': '48.6253'},\n",
      "                           'postcode': 95817,\n",
      "                           'state': 'bay of plenty',\n",
      "                           'street': '502 lyttelton avenue',\n",
      "                           'timezone': {'description': 'Magadan, Solomon '\n",
      "                                                       'Islands, New Caledonia',\n",
      "                                        'offset': '+11:00'}},\n",
      "              'login': {'md5': 'b54aacb1da4e29f0f8355ff915a0293c',\n",
      "                        'password': 'archer',\n",
      "                        'salt': 'yZYUyuDh',\n",
      "                        'sha1': 'f87b4a9932bfec240cbae8c4be4b195eab8e816c',\n",
      "                        'sha256': '172579b528943f82884f43eb422a0997ad6710dd1bdf905e437ccb4f48e2c90c',\n",
      "                        'username': 'whiteleopard613',\n",
      "                        'uuid': 'cdef0711-f6dc-4c65-b21f-899010e48039'},\n",
      "              'name': {'first': 'olivia', 'last': 'wang', 'title': 'ms'},\n",
      "              'nat': 'NZ',\n",
      "              'phone': '(092)-502-6345',\n",
      "              'picture': {'large': 'https://randomuser.me/api/portraits/women/9.jpg',\n",
      "                          'medium': 'https://randomuser.me/api/portraits/med/women/9.jpg',\n",
      "                          'thumbnail': 'https://randomuser.me/api/portraits/thumb/women/9.jpg'},\n",
      "              'registered': {'age': 16, 'date': '2002-06-12T09:35:32Z'}}]}\n"
     ]
    }
   ],
   "source": [
    "import requests\n",
    "import pprint\n",
    "url = 'https://randomuser.me/api/?results=1'\n",
    "users = requests.get(url).json()\n",
    "pprint.pprint(users)"
   ]
  },
  {
   "cell_type": "markdown",
   "metadata": {},
   "source": [
    "## Queue\n",
    "Python supports multithreading, and this is facilitated by the Standard Library’s Queue module.\n",
    "\n",
    "This module lets you implement queue data structures. These are data structures that let you add and retrieve entries according to a specific rule.\n",
    "\n",
    "‘First in, first out’ (or FIFO) queues let you retrieve objects in the order they were added. ‘Last in, first out’ (LIFO) queues let you access the most recently added objects first.\n",
    "\n",
    "Finally, priority queues let you retrieve objects according to the order in which they are sorted.\n",
    "\n",
    "Here’s an example of how to use queues for multithreaded programming in Python."
   ]
  },
  {
   "cell_type": "markdown",
   "metadata": {},
   "source": [
    "## __repr__\n",
    "When defining a class or an object in Python, it is useful to provide an ‘official’ way of representing that object as a string. \n",
    "This makes debugging code a lot easier. Add it to your class definitions as below:"
   ]
  },
  {
   "cell_type": "code",
   "execution_count": 13,
   "metadata": {},
   "outputs": [
    {
     "name": "stdout",
     "output_type": "stream",
     "text": [
      "<some description here>\n"
     ]
    }
   ],
   "source": [
    "class someClass:\n",
    "    def __repr__(self):\n",
    "        return \"<some description here>\"\n",
    "someInstance = someClass()\n",
    "# prints <some description here>\n",
    "print(someInstance)"
   ]
  },
  {
   "cell_type": "markdown",
   "metadata": {},
   "source": [
    "## sh\n",
    "Python makes a great scripting language. Sometimes using the standard os and subprocess libraries can be a bit of a headache.\n",
    "\n",
    "The sh library provides a neat alternative.\n",
    "\n",
    "It lets you call any program as if it were an ordinary function — useful for automating workflows and tasks, all from within Python."
   ]
  },
  {
   "cell_type": "code",
   "execution_count": 14,
   "metadata": {},
   "outputs": [
    {
     "ename": "ModuleNotFoundError",
     "evalue": "No module named 'sh'",
     "output_type": "error",
     "traceback": [
      "\u001b[0;31m\u001b[0m",
      "\u001b[0;31mModuleNotFoundError\u001b[0mTraceback (most recent call last)",
      "\u001b[0;32m<ipython-input-14-2e5ad4ea0240>\u001b[0m in \u001b[0;36m<module>\u001b[0;34m()\u001b[0m\n\u001b[0;32m----> 1\u001b[0;31m \u001b[0;32mimport\u001b[0m \u001b[0msh\u001b[0m\u001b[0;34m\u001b[0m\u001b[0m\n\u001b[0m\u001b[1;32m      2\u001b[0m \u001b[0msh\u001b[0m\u001b[0;34m.\u001b[0m\u001b[0mpwd\u001b[0m\u001b[0;34m(\u001b[0m\u001b[0;34m)\u001b[0m\u001b[0;34m\u001b[0m\u001b[0m\n\u001b[1;32m      3\u001b[0m \u001b[0msh\u001b[0m\u001b[0;34m.\u001b[0m\u001b[0mmkdir\u001b[0m\u001b[0;34m(\u001b[0m\u001b[0;34m'new_folder'\u001b[0m\u001b[0;34m)\u001b[0m\u001b[0;34m\u001b[0m\u001b[0m\n\u001b[1;32m      4\u001b[0m \u001b[0msh\u001b[0m\u001b[0;34m.\u001b[0m\u001b[0mtouch\u001b[0m\u001b[0;34m(\u001b[0m\u001b[0;34m'new_file.txt'\u001b[0m\u001b[0;34m)\u001b[0m\u001b[0;34m\u001b[0m\u001b[0m\n\u001b[1;32m      5\u001b[0m \u001b[0msh\u001b[0m\u001b[0;34m.\u001b[0m\u001b[0mwhoami\u001b[0m\u001b[0;34m(\u001b[0m\u001b[0;34m)\u001b[0m\u001b[0;34m\u001b[0m\u001b[0m\n",
      "\u001b[0;31mModuleNotFoundError\u001b[0m: No module named 'sh'"
     ]
    }
   ],
   "source": [
    "import sh\n",
    "sh.pwd()\n",
    "sh.mkdir('new_folder')\n",
    "sh.touch('new_file.txt')\n",
    "sh.whoami()\n",
    "sh.echo('This is great!')"
   ]
  },
  {
   "cell_type": "markdown",
   "metadata": {},
   "source": [
    "## Type hints\n",
    "Python is a dynamically-typed language. You don’t need to specify datatypes when you define variables, functions, classes etc.\n",
    "\n",
    "This allows for rapid development times. However, there are few things more annoying than a runtime error caused by a simple typing issue.\n",
    "\n",
    "Since Python 3.5, you have the option to provide type hints when defining functions."
   ]
  },
  {
   "cell_type": "code",
   "execution_count": 15,
   "metadata": {},
   "outputs": [
    {
     "ename": "NameError",
     "evalue": "name 'Int' is not defined",
     "output_type": "error",
     "traceback": [
      "\u001b[0;31m\u001b[0m",
      "\u001b[0;31mNameError\u001b[0mTraceback (most recent call last)",
      "\u001b[0;32m<ipython-input-15-0687c492ecec>\u001b[0m in \u001b[0;36m<module>\u001b[0;34m()\u001b[0m\n\u001b[0;32m----> 1\u001b[0;31m \u001b[0;32mdef\u001b[0m \u001b[0maddTwo\u001b[0m\u001b[0;34m(\u001b[0m\u001b[0mx\u001b[0m \u001b[0;34m:\u001b[0m \u001b[0mInt\u001b[0m\u001b[0;34m)\u001b[0m \u001b[0;34m->\u001b[0m \u001b[0mInt\u001b[0m\u001b[0;34m:\u001b[0m\u001b[0;34m\u001b[0m\u001b[0m\n\u001b[0m\u001b[1;32m      2\u001b[0m     \u001b[0;32mreturn\u001b[0m \u001b[0mx\u001b[0m \u001b[0;34m+\u001b[0m \u001b[0;36m2\u001b[0m\u001b[0;34m\u001b[0m\u001b[0m\n",
      "\u001b[0;31mNameError\u001b[0m: name 'Int' is not defined"
     ]
    }
   ],
   "source": [
    "def addTwo(x : Int) -> Int:\n",
    "    return x + 2"
   ]
  },
  {
   "cell_type": "markdown",
   "metadata": {},
   "source": [
    "You can also define type aliases:\n",
    "\n",
    "Although not compulsory, type annotations can make your code easier to understand.\n",
    "\n",
    "They also allow you to use type checking tools to catch those stray TypeErrors before runtime. Probably worthwhile if you are working on large, complex projects!"
   ]
  },
  {
   "cell_type": "code",
   "execution_count": 16,
   "metadata": {},
   "outputs": [],
   "source": [
    "from typing import List\n",
    "Vector = List[float]\n",
    "Matrix = List[Vector]\n",
    "def addMatrix(a : Matrix, b : Matrix) -> Matrix:\n",
    "  result = []\n",
    "  for i,row in enumerate(a):\n",
    "    result_row =[]\n",
    "    for j, col in enumerate(row):\n",
    "      result_row += [a[i][j] + b[i][j]]\n",
    "    result += [result_row]\n",
    "  return result\n",
    "x = [[1.0, 0.0], [0.0, 1.0]]\n",
    "y = [[2.0, 1.0], [0.0, -2.0]]\n",
    "z = addMatrix(x, y)"
   ]
  },
  {
   "cell_type": "markdown",
   "metadata": {},
   "source": [
    "## uuid\n",
    "A quick and easy way to generate Universally Unique IDs (or ‘UUIDs’) is through the Python Standard Library’s uuid module.\n",
    "\n",
    "This creates a randomized 128-bit number that will almost certainly be unique.\n",
    "\n",
    "In fact, there are over 2¹²² possible UUIDs that can be generated. That’s over five undecillion (or 5,000,000,000,000,000,000,000,000,000,000,000,000).\n",
    "\n",
    "The probability of finding duplicates in a given set is extremely low. Even with a trillion UUIDs, the probability of a duplicate existing is much, much less than one-in-a-billion.\n",
    "\n",
    "Pretty good for two lines of code."
   ]
  },
  {
   "cell_type": "markdown",
   "metadata": {},
   "source": [
    "## Virtual environments\n",
    "This is probably my favorite Python thing of all.\n",
    "\n",
    "Chances are you are working on multiple Python projects at any one time. Unfortunately, sometimes two projects will rely on different versions of the same dependency. Which do you install on your system?\n",
    "\n",
    "Luckily, Python’s support for virtual environments lets you have the best of both worlds. From the command line:\n",
    "\n",
    "python -m venv my-project\n",
    "source my-project/bin/activate\n",
    "pip install all-the-modules \n",
    "\n",
    "Now you can have standalone versions and installations of Python running on the same machine. Sorted!"
   ]
  },
  {
   "cell_type": "markdown",
   "metadata": {},
   "source": [
    "## wikipedia\n",
    "Wikipedia has a great API that allows users programmatic access to an unrivalled body of completely free knowledge and information.\n",
    "\n",
    "The wikipedia module makes accessing this API almost embarrassingly convenient."
   ]
  },
  {
   "cell_type": "code",
   "execution_count": 17,
   "metadata": {},
   "outputs": [
    {
     "ename": "ModuleNotFoundError",
     "evalue": "No module named 'wikipedia'",
     "output_type": "error",
     "traceback": [
      "\u001b[0;31m\u001b[0m",
      "\u001b[0;31mModuleNotFoundError\u001b[0mTraceback (most recent call last)",
      "\u001b[0;32m<ipython-input-17-8d33c3492091>\u001b[0m in \u001b[0;36m<module>\u001b[0;34m()\u001b[0m\n\u001b[0;32m----> 1\u001b[0;31m \u001b[0;32mimport\u001b[0m \u001b[0mwikipedia\u001b[0m\u001b[0;34m\u001b[0m\u001b[0m\n\u001b[0m\u001b[1;32m      2\u001b[0m \u001b[0mresult\u001b[0m \u001b[0;34m=\u001b[0m \u001b[0mwikipedia\u001b[0m\u001b[0;34m.\u001b[0m\u001b[0mpage\u001b[0m\u001b[0;34m(\u001b[0m\u001b[0;34m'freeCodeCamp'\u001b[0m\u001b[0;34m)\u001b[0m\u001b[0;34m\u001b[0m\u001b[0m\n\u001b[1;32m      3\u001b[0m \u001b[0mprint\u001b[0m\u001b[0;34m(\u001b[0m\u001b[0mresult\u001b[0m\u001b[0;34m.\u001b[0m\u001b[0msummary\u001b[0m\u001b[0;34m)\u001b[0m\u001b[0;34m\u001b[0m\u001b[0m\n\u001b[1;32m      4\u001b[0m \u001b[0;32mfor\u001b[0m \u001b[0mlink\u001b[0m \u001b[0;32min\u001b[0m \u001b[0mresult\u001b[0m\u001b[0;34m.\u001b[0m\u001b[0mlinks\u001b[0m\u001b[0;34m:\u001b[0m\u001b[0;34m\u001b[0m\u001b[0m\n\u001b[1;32m      5\u001b[0m     \u001b[0mprint\u001b[0m\u001b[0;34m(\u001b[0m\u001b[0mlink\u001b[0m\u001b[0;34m)\u001b[0m\u001b[0;34m\u001b[0m\u001b[0m\n",
      "\u001b[0;31mModuleNotFoundError\u001b[0m: No module named 'wikipedia'"
     ]
    }
   ],
   "source": [
    "import wikipedia\n",
    "result = wikipedia.page('freeCodeCamp')\n",
    "print(result.summary)\n",
    "for link in result.links:\n",
    "    print(link)"
   ]
  },
  {
   "cell_type": "markdown",
   "metadata": {},
   "source": [
    "## xkcd\n",
    "Humour is a key feature of the Python language — after all, it is named after the British comedy sketch show Monty Python’s Flying Circus. Much of Python’s official documentation references the show’s most famous sketches.\n",
    "\n",
    "The sense of humour isn’t restricted to the docs, though. Have a go running the line below:"
   ]
  },
  {
   "cell_type": "code",
   "execution_count": 18,
   "metadata": {},
   "outputs": [],
   "source": [
    "import antigravity"
   ]
  },
  {
   "cell_type": "markdown",
   "metadata": {},
   "source": [
    "## YAML\n",
    "YAML stands for ‘YAML Ain’t Markup Language’. It is a data formatting language, and is a superset of JSON.\n",
    "\n",
    "Unlike JSON, it can store more complex objects and refer to its own elements. You can also write comments, making it particularly suited to writing configuration files.\n",
    "\n",
    "The PyYAML module lets you use YAML with Python. Install with:\n",
    "\n",
    "```\n",
    "pip install pyyaml\n",
    "```\n",
    "\n",
    "And then import into your projects:\n",
    "\n",
    "```\n",
    "import yaml\n",
    "```\n",
    "\n",
    "PyYAML lets you store Python objects of any datatype, and instances of any user-defined classes also."
   ]
  },
  {
   "cell_type": "markdown",
   "metadata": {},
   "source": [
    "## zip\n",
    "One last trick for ya, and it really is a cool one. Ever needed to form a dictionary out of two lists?\n",
    "The zip() inbuilt function takes a number of iterable objects and returns a list of tuples. Each tuple groups the elements of the input objects by their positional index.\n",
    "\n",
    "You can also ‘unzip’ objects by calling *zip() on them."
   ]
  },
  {
   "cell_type": "code",
   "execution_count": 20,
   "metadata": {},
   "outputs": [],
   "source": [
    "keys = ['a', 'b', 'c']\n",
    "vals = [1, 2, 3]\n",
    "zipped = dict(zip(keys, vals))"
   ]
  },
  {
   "cell_type": "code",
   "execution_count": null,
   "metadata": {},
   "outputs": [],
   "source": []
  }
 ],
 "metadata": {
  "kernelspec": {
   "display_name": "Python 3",
   "language": "python",
   "name": "python3"
  },
  "language_info": {
   "codemirror_mode": {
    "name": "ipython",
    "version": 3
   },
   "file_extension": ".py",
   "mimetype": "text/x-python",
   "name": "python",
   "nbconvert_exporter": "python",
   "pygments_lexer": "ipython3",
   "version": "3.6.5"
  }
 },
 "nbformat": 4,
 "nbformat_minor": 2
}
